{
 "cells": [
  {
   "cell_type": "markdown",
   "id": "a41f3622",
   "metadata": {},
   "source": [
    "# Ejercicios de probabilidad"
   ]
  },
  {
   "cell_type": "markdown",
   "id": "a6bdbd89",
   "metadata": {},
   "source": [
    "## Ejercicio 1 \n",
    "\n",
    "Dos dados se lanzan una vez y se observa el total obtenido. Usa una simulación para encontrar la probabilidad estimada de que la puntuación sea mayor a 7 o un número par. Una simulación es una repetición del mismo experimento multiples veces para observar su comportamiento:\n",
    "\n",
    "- Ejecuta el experimento 1000 veces (lanza 2 dados 1000 veces, y suma el número de ambos dados).\n",
    "- Lleva ua cuenta de los números y las veces que la suma fue mayor a 7 o un número par.\n",
    "- Divide el número del paso 2 entre el número de iteraciones(1000)."
   ]
  },
  {
   "cell_type": "code",
   "execution_count": 43,
   "id": "8939d892",
   "metadata": {},
   "outputs": [
    {
     "data": {
      "text/plain": [
       "'La probabilidad del evento es 66.7%'"
      ]
     },
     "execution_count": 43,
     "metadata": {},
     "output_type": "execute_result"
    }
   ],
   "source": [
    "import numpy as np\n",
    "\n",
    "#El evento seria que la suma de ambos dados sea mayor a 7 o un numero par\n",
    "\n",
    "def evento_dados(n):\n",
    "  dado = [1,2,3,4,5,6 ]\n",
    "  suma = 0\n",
    "  exito = 0\n",
    "  for i in range(n):\n",
    "    #Extraemos cada uno del dado\n",
    "    n1 = np.random.choice(dado)\n",
    "    n2 = np.random.choice(dado)\n",
    "    #Almacenamos la suma\n",
    "    suma = n1 + n2\n",
    "    #Evaluamos la suma de acuerdo al evento\n",
    "    if suma > 7 or suma%2==0:\n",
    "      exito = exito + 1\n",
    "  return (f'La probabilidad del evento es {round( (exito / n)*100,2)}%')\n",
    "\n",
    "iteraciones = 1000\n",
    "evento_dados(iteraciones)"
   ]
  },
  {
   "cell_type": "markdown",
   "id": "55732bca",
   "metadata": {},
   "source": [
    "## Ejercicio 2\n",
    "\n",
    "Una caja contiene 10 bolas blancas, 20 bolas rojas y 30 bolas verdes. Si tomamos 5 bolas de la caja reemplazándolas (tomando una bola, anotando el color y luego regresandola a la caja). Queremos saber la probabilidad de:\n",
    "\n",
    "1. Tomar 3 blancas y 2 rojas.\n",
    "2. Toas todas del mismo color.\n",
    "\n",
    "Ejecuta el experimento 1000 veces y calcula las probabilidades que mencionadas."
   ]
  },
  {
   "cell_type": "code",
   "execution_count": 44,
   "id": "23244d20",
   "metadata": {},
   "outputs": [
    {
     "name": "stdout",
     "output_type": "stream",
     "text": [
      "{0: 'White', 1: 'White', 2: 'White', 3: 'White', 4: 'White', 5: 'White', 6: 'White', 7: 'White', 8: 'White', 9: 'White', 10: 'Red', 11: 'Red', 12: 'Red', 13: 'Red', 14: 'Red', 15: 'Red', 16: 'Red', 17: 'Red', 18: 'Red', 19: 'Red', 20: 'Red', 21: 'Red', 22: 'Red', 23: 'Red', 24: 'Red', 25: 'Red', 26: 'Red', 27: 'Red', 28: 'Red', 29: 'Red', 30: 'Green', 31: 'Green', 32: 'Green', 33: 'Green', 34: 'Green', 35: 'Green', 36: 'Green', 37: 'Green', 38: 'Green', 39: 'Green', 40: 'Green', 41: 'Green', 42: 'Green', 43: 'Green', 44: 'Green', 45: 'Green', 46: 'Green', 47: 'Green', 48: 'Green', 49: 'Green', 50: 'Green', 51: 'Green', 52: 'Green', 53: 'Green', 54: 'Green', 55: 'Green', 56: 'Green', 57: 'Green', 58: 'Green', 59: 'Green'}\n"
     ]
    }
   ],
   "source": [
    "ball_box = {}\n",
    "\n",
    "# Crea la cajas con las bolas\n",
    "for i in range(60):\n",
    "    if i < 10:\n",
    "        ball_box[i] = \"White\"\n",
    "    elif (i > 9) and (i < 30):\n",
    "        ball_box[i] = \"Red\"\n",
    "    else:\n",
    "        ball_box[i] = \"Green\"\n",
    "\n",
    "print(ball_box)\n",
    "            \n",
    "# TODO"
   ]
  },
  {
   "cell_type": "code",
   "execution_count": 46,
   "id": "b303ac92",
   "metadata": {},
   "outputs": [
    {
     "name": "stdout",
     "output_type": "stream",
     "text": [
      "La probabilidad que 3 sean blancas y 2 rojas es: 0.3%\n",
      "La probabilidad que las cinco bolas extraidas sean del mismo color es: 4.2%\n"
     ]
    }
   ],
   "source": [
    "\n",
    "import numpy as np\n",
    "\n",
    "#Seleccion de las 5 bolas extraidas de la caja, como es diccionario, se pasa a lista\n",
    "n = 1000\n",
    "exito_1 = 0\n",
    "exito_2 = 0\n",
    "\n",
    "for i in range(n):\n",
    "\n",
    "  resultados = np.random.choice(list(ball_box.values()),5)\n",
    "  #contar ahora cuantas bolas hay del mismo color\n",
    "  white = np.count_nonzero(resultados=='White')\n",
    "  red = np.count_nonzero(resultados=='Red')\n",
    "  green = np.count_nonzero(resultados=='Green')\n",
    "\n",
    "  if white == 3 and red == 2:\n",
    "    exito_1 += 1\n",
    "\n",
    "  if white == 5 or red == 5 or green == 5:\n",
    "    exito_2 += 1\n",
    "\n",
    "probabilidad_caso_1 = exito_1 / n\n",
    "probabilidad_caso_2 = exito_2 / n\n",
    "print(f'La probabilidad que 3 sean blancas y 2 rojas es: {round(probabilidad_caso_1*100,2)}%')\n",
    "print(f'La probabilidad que las cinco bolas extraidas sean del mismo color es: {round(probabilidad_caso_2*100,2)}%')"
   ]
  }
 ],
 "metadata": {
  "kernelspec": {
   "display_name": "Python 3",
   "language": "python",
   "name": "python3"
  },
  "language_info": {
   "codemirror_mode": {
    "name": "ipython",
    "version": 3
   },
   "file_extension": ".py",
   "mimetype": "text/x-python",
   "name": "python",
   "nbconvert_exporter": "python",
   "pygments_lexer": "ipython3",
   "version": "3.11.4"
  }
 },
 "nbformat": 4,
 "nbformat_minor": 5
}
